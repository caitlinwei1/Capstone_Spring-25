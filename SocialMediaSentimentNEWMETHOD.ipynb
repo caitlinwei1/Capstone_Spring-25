{
 "cells": [
  {
   "cell_type": "code",
   "execution_count": 7,
   "id": "be54a5d1",
   "metadata": {},
   "outputs": [],
   "source": [
    "import pandas as pd\n",
    "import torch\n",
    "from vaderSentiment.vaderSentiment import SentimentIntensityAnalyzer\n",
    "from transformers import pipeline, AutoTokenizer, AutoModelForSequenceClassification\n",
    "from tqdm import tqdm\n",
    "import os\n"
   ]
  },
  {
   "cell_type": "code",
   "execution_count": 10,
   "id": "594f0551",
   "metadata": {},
   "outputs": [],
   "source": [
    "# --- Configuration ---\n",
    "input_path = 'stratifiedSentimentData/socialMedia_stratified.csv'\n",
    "text_column = 'attributes.search_data_fields.all_text'\n",
    "output_dir = os.path.dirname(input_path)\n",
    "output_filename = os.path.join(output_dir, 'socialMedia_with_advanced_sentiment.csv')\n",
    "\n"
   ]
  },
  {
   "cell_type": "code",
   "execution_count": 3,
   "id": "a7ef9dd9",
   "metadata": {},
   "outputs": [
    {
     "name": "stdout",
     "output_type": "stream",
     "text": [
      "Running VADER analysis...\n"
     ]
    },
    {
     "name": "stderr",
     "output_type": "stream",
     "text": [
      "C:\\Users\\cassi\\AppData\\Local\\Temp\\ipykernel_3544\\3919517412.py:11: DtypeWarning: Columns (9) have mixed types. Specify dtype option on import or set low_memory=False.\n",
      "  data = pd.read_csv(input_path)\n"
     ]
    }
   ],
   "source": [
    "# --- 1. VADER Sentiment Analysis ---\n",
    "print(\"Running VADER analysis...\")\n",
    "vader_analyzer = SentimentIntensityAnalyzer()\n",
    "\n",
    "def get_vader_scores(text):\n",
    "    if pd.isna(text) or not str(text).strip():\n",
    "        return {'compound': 0, 'neg': 0, 'neu': 0, 'pos': 0}\n",
    "    return vader_analyzer.polarity_scores(str(text))\n",
    "\n",
    "# Apply VADER\n",
    "data = pd.read_csv(input_path)\n",
    "data['vader_scores'] = data[text_column].apply(get_vader_scores)\n",
    "\n",
    "# Extract VADER scores\n",
    "data['vader_neg'] = data['vader_scores'].apply(lambda x: x['neg'])\n",
    "data['vader_neu'] = data['vader_scores'].apply(lambda x: x['neu'])\n",
    "data['vader_pos'] = data['vader_scores'].apply(lambda x: x['pos'])\n",
    "data['vader_compound'] = data['vader_scores'].apply(lambda x: x['compound'])\n",
    "\n"
   ]
  },
  {
   "cell_type": "code",
   "execution_count": 4,
   "id": "e99cd3d7",
   "metadata": {},
   "outputs": [
    {
     "name": "stdout",
     "output_type": "stream",
     "text": [
      "Initializing RoBERTa-Twitter...\n"
     ]
    },
    {
     "data": {
      "application/vnd.jupyter.widget-view+json": {
       "model_id": "a542ca95db98461d929a782ae0453d4a",
       "version_major": 2,
       "version_minor": 0
      },
      "text/plain": [
       "config.json:   0%|          | 0.00/747 [00:00<?, ?B/s]"
      ]
     },
     "metadata": {},
     "output_type": "display_data"
    },
    {
     "data": {
      "application/vnd.jupyter.widget-view+json": {
       "model_id": "a6a5c83963e04c30b91d3126f069004d",
       "version_major": 2,
       "version_minor": 0
      },
      "text/plain": [
       "vocab.json:   0%|          | 0.00/899k [00:00<?, ?B/s]"
      ]
     },
     "metadata": {},
     "output_type": "display_data"
    },
    {
     "data": {
      "application/vnd.jupyter.widget-view+json": {
       "model_id": "a665e2748fc34c76927df1e46756a1d4",
       "version_major": 2,
       "version_minor": 0
      },
      "text/plain": [
       "merges.txt:   0%|          | 0.00/456k [00:00<?, ?B/s]"
      ]
     },
     "metadata": {},
     "output_type": "display_data"
    },
    {
     "data": {
      "application/vnd.jupyter.widget-view+json": {
       "model_id": "e068bc10cf4b42368cc072f063d763e7",
       "version_major": 2,
       "version_minor": 0
      },
      "text/plain": [
       "special_tokens_map.json:   0%|          | 0.00/150 [00:00<?, ?B/s]"
      ]
     },
     "metadata": {},
     "output_type": "display_data"
    },
    {
     "data": {
      "application/vnd.jupyter.widget-view+json": {
       "model_id": "c4344a78adae43a7bde85fe5af7e92d7",
       "version_major": 2,
       "version_minor": 0
      },
      "text/plain": [
       "pytorch_model.bin:   0%|          | 0.00/499M [00:00<?, ?B/s]"
      ]
     },
     "metadata": {},
     "output_type": "display_data"
    },
    {
     "name": "stderr",
     "output_type": "stream",
     "text": [
      "Device set to use cpu\n",
      "Processing batches: 100%|██████████| 4375/4375 [6:22:59<00:00,  5.25s/it]     \n"
     ]
    }
   ],
   "source": [
    "# --- 2. RoBERTa-Twitter Sentiment Analysis ---\n",
    "print(\"Initializing RoBERTa-Twitter...\")\n",
    "try:\n",
    "    # Load model with error fallback\n",
    "    tokenizer = AutoTokenizer.from_pretrained(\"cardiffnlp/twitter-roberta-base-sentiment\")\n",
    "    model = AutoModelForSequenceClassification.from_pretrained(\"cardiffnlp/twitter-roberta-base-sentiment\")\n",
    "    roberta = pipeline(\n",
    "        \"sentiment-analysis\",\n",
    "        model=model,\n",
    "        tokenizer=tokenizer,\n",
    "        device=0 if torch.cuda.is_available() else -1\n",
    "    )\n",
    "except Exception as e:\n",
    "    print(f\"Error loading model: {e}\")\n",
    "    raise\n",
    "\n",
    "# Batch processing for efficiency\n",
    "def analyze_batch(texts, batch_size=8):\n",
    "    results = []\n",
    "    for i in tqdm(range(0, len(texts), batch_size), desc=\"Processing batches\"):\n",
    "        batch = texts[i:i+batch_size]\n",
    "        try:\n",
    "            inputs = tokenizer(\n",
    "                batch,\n",
    "                return_tensors=\"pt\",\n",
    "                truncation=True,\n",
    "                max_length=512,  # RoBERTa's 512-token limit\n",
    "                padding=\"max_length\"\n",
    "            )\n",
    "            if torch.cuda.is_available():\n",
    "                inputs = {k: v.to('cuda') for k, v in inputs.items()}\n",
    "            \n",
    "            with torch.no_grad():\n",
    "                outputs = model(**inputs)\n",
    "                probs = torch.nn.functional.softmax(outputs.logits, dim=-1)\n",
    "            \n",
    "            batch_results = [\n",
    "                {\n",
    "                    'label': model.config.id2label[torch.argmax(prob).item()],\n",
    "                    'score': torch.max(prob).item()\n",
    "                }\n",
    "                for prob in probs\n",
    "            ]\n",
    "            results.extend(batch_results)\n",
    "        except Exception as e:\n",
    "            print(f\"Batch failed: {str(e)[:200]}...\")\n",
    "            results.extend([{'label': 'error', 'score': 0}] * len(batch))\n",
    "    return results\n",
    "\n",
    "# Apply RoBERTa\n",
    "texts = data[text_column].fillna(\"\").astype(str).tolist()\n",
    "data['roberta_raw'] = analyze_batch(texts)\n",
    "\n",
    "# Extract RoBERTa scores\n",
    "data['roberta_label'] = data['roberta_raw'].apply(lambda x: x['label'])\n",
    "data['roberta_score'] = data['roberta_raw'].apply(lambda x: x['score'])\n",
    "\n",
    "# Map labels to numeric values for comparison\n",
    "label_map = {'negative': -1, 'neutral': 0, 'positive': 1}\n",
    "data['roberta_numeric'] = data['roberta_label'].map(label_map).fillna(0)\n",
    "\n"
   ]
  },
  {
   "cell_type": "code",
   "execution_count": 5,
   "id": "fa1f04f2",
   "metadata": {},
   "outputs": [
    {
     "name": "stdout",
     "output_type": "stream",
     "text": [
      "Analysis complete. Results saved to:\n",
      "stratifiedSentimentData\\socialMedia_with_advanced_sentiment.csv\n"
     ]
    }
   ],
   "source": [
    "# --- Save Results ---\n",
    "data.to_csv(output_filename, index=False)\n",
    "print(f\"Analysis complete. Results saved to:\\n{output_filename}\")"
   ]
  }
 ],
 "metadata": {
  "kernelspec": {
   "display_name": "Capstone2",
   "language": "python",
   "name": "python3"
  },
  "language_info": {
   "codemirror_mode": {
    "name": "ipython",
    "version": 3
   },
   "file_extension": ".py",
   "mimetype": "text/x-python",
   "name": "python",
   "nbconvert_exporter": "python",
   "pygments_lexer": "ipython3",
   "version": "3.11.11"
  }
 },
 "nbformat": 4,
 "nbformat_minor": 5
}
