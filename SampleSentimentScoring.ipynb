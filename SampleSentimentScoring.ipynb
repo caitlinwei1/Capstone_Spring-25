{
 "cells": [
  {
   "cell_type": "code",
   "execution_count": 4,
   "id": "dae49976",
   "metadata": {},
   "outputs": [],
   "source": [
    "import pandas as pd\n",
    "from nrclex import NRCLex\n",
    "from textblob import TextBlob\n",
    "import os"
   ]
  },
  {
   "cell_type": "code",
   "execution_count": 5,
   "id": "bb6f0e0f",
   "metadata": {},
   "outputs": [],
   "source": [
    "#Load in dataset\n",
    "input_path = 'stratifiedSentimentData/stratified_radio_sample.csv'\n",
    "data = pd.read_csv(input_path)\n",
    "\n",
    "# Get the directory from input path to save output in same location\n",
    "output_dir = os.path.dirname(input_path)\n",
    "\n",
    "# Define output filename (same name with suffix) in same directory\n",
    "output_filename = os.path.join(output_dir, 'stratified_radio_sample_with_sentiment.csv')"
   ]
  },
  {
   "cell_type": "markdown",
   "id": "2ccd3ac9",
   "metadata": {},
   "source": [
    "# Emotion and Sentiment Scoring Using NRCLex"
   ]
  },
  {
   "cell_type": "code",
   "execution_count": 6,
   "id": "a6a770f8",
   "metadata": {},
   "outputs": [],
   "source": [
    "def get_emotion_scores(text):\n",
    "    \"\"\"\n",
    "    Analyze text to extract emotion and sentiment scores using NRCLex.\n",
    "    NRCLex uses the NRC Emotion Lexicon which associates words with eight basic emotions\n",
    "    (anger, fear, anticipation, trust, surprise, sadness, joy, disgust) and two sentiments\n",
    "    (positive, negative).\n",
    "    \n",
    "    For each text input:\n",
    "    1. Tokenizes and lemmatizes the text\n",
    "    2. Matches words against the NRC Emotion Lexicon\n",
    "    3. Returns raw counts of emotion/sentiment words found\n",
    "    \n",
    "    Parameters:\n",
    "        text (str): Input text to analyze\n",
    "    \n",
    "    Returns:\n",
    "        dict: Dictionary with emotion/sentiment categories as keys and their counts as values\n",
    "              Example: {'joy': 3, 'positive': 2, 'trust': 1}\n",
    "    \"\"\"\n",
    "    if pd.isna(text) or not str(text).strip():\n",
    "        return {}\n",
    "    emotion = NRCLex(str(text))\n",
    "    return emotion.raw_emotion_scores\n",
    "\n",
    "# Apply NRCLex to the dataset\n",
    "data['emotion_scores'] = data['text'].apply(get_emotion_scores)\n",
    "\n",
    "# List of emotions and sentiments in the NRC lexicon\n",
    "emotions = ['fear', 'anger', 'anticipation', 'trust', 'surprise', 'sadness', 'disgust', 'joy']\n",
    "sentiments = ['positive', 'negative']\n",
    "\n",
    "# Initialize emotion and sentiment columns with 0\n",
    "for emotion in emotions:\n",
    "    data[emotion] = 0\n",
    "for sentiment in sentiments:\n",
    "    data[sentiment] = 0\n",
    "\n",
    "# Populate emotion and sentiment columns\n",
    "for idx, row in data.iterrows():\n",
    "    if isinstance(row['emotion_scores'], dict):\n",
    "        for emotion, score in row['emotion_scores'].items():\n",
    "            if emotion in emotions:\n",
    "                data.at[idx, emotion] = score\n",
    "            elif emotion in sentiments:\n",
    "                data.at[idx, emotion] = score"
   ]
  },
  {
   "cell_type": "code",
   "execution_count": 7,
   "id": "689a9acc",
   "metadata": {},
   "outputs": [
    {
     "name": "stdout",
     "output_type": "stream",
     "text": [
      "  station            range_key  \\\n",
      "0    KAWC  2024-11-30 09:00:00   \n",
      "1    KAWC  2024-09-26 06:00:00   \n",
      "2    KVOI  2024-11-15 15:00:00   \n",
      "3    KQNA  2024-11-03 21:00:00   \n",
      "4    KVOI  2024-09-01 00:00:00   \n",
      "\n",
      "                                                text state  \\\n",
      "0   Weather forecast for Yuma today is mostly sun...    AZ   \n",
      "1   K-A-W-C.Classical music of Peter Van de Graaf...    AZ   \n",
      "2   At Cortero, Tucson's only live local news and...    AZ   \n",
      "3   Can't get enough of YCCA's Hammer Time show?W...    AZ   \n",
      "4   Under the Gaza city of Rafa, including that o...    AZ   \n",
      "\n",
      "                                      emotion_scores  fear  anger  \\\n",
      "0  {'anticipation': 254, 'trust': 325, 'joy': 235...   141     92   \n",
      "1  {'joy': 311, 'positive': 796, 'sadness': 209, ...   275    206   \n",
      "2  {'positive': 1104, 'trust': 786, 'joy': 509, '...   312    315   \n",
      "3  {'trust': 590, 'positive': 937, 'joy': 407, 'a...   286    229   \n",
      "4  {'positive': 812, 'trust': 552, 'anticipation'...   328    245   \n",
      "\n",
      "   anticipation  trust  surprise  sadness  disgust  joy  positive  negative  \n",
      "0           254    325       116      126       78  235       512       266  \n",
      "1           426    498       186      209       88  311       796       445  \n",
      "2           628    786       271      282      125  509      1104       515  \n",
      "3           475    590       198      232      117  407       937       418  \n",
      "4           353    552       189      251      110  298       812       494  \n"
     ]
    }
   ],
   "source": [
    "print(data.head())"
   ]
  },
  {
   "cell_type": "markdown",
   "id": "d1af322b",
   "metadata": {},
   "source": [
    "# Additional Sentiment Scoring Using TextBlob"
   ]
  },
  {
   "cell_type": "code",
   "execution_count": null,
   "id": "3329ddfd",
   "metadata": {},
   "outputs": [],
   "source": [
    "def analyze_sentiment(df, text_column='text'):\n",
    "    \"\"\"\n",
    "    Analyze sentiment for each row in the DataFrame using TextBlob.\n",
    "    Scores each sentence in an entry for positivity, negativity, and neutrality,\n",
    "    and sums these scores for all sentences in the entry.\n",
    "    Adds new columns: 'positive_sum', 'negative_sum', and 'neutral_sum'.\n",
    "    \"\"\"\n",
    "    positive_sums = []\n",
    "    negative_sums = []\n",
    "    neutral_sums = []\n",
    "\n",
    "    for text in df[text_column]:\n",
    "        # Skip empty or null text\n",
    "        if not text or pd.isna(text):\n",
    "            positive_sums.append(0)\n",
    "            negative_sums.append(0)\n",
    "            neutral_sums.append(0)\n",
    "            continue\n",
    "\n",
    "        # Split text into sentences\n",
    "        sentences = [sent.strip() for sent in str(text).split('.') if sent.strip()]\n",
    "        \n",
    "        # If no valid sentences, assign default values\n",
    "        if not sentences:\n",
    "            positive_sums.append(0)\n",
    "            negative_sums.append(0)\n",
    "            neutral_sums.append(0)\n",
    "            continue\n",
    "\n",
    "        positive_sum = 0\n",
    "        negative_sum = 0\n",
    "        neutral_sum = 0\n",
    "\n",
    "        for sentence in sentences:\n",
    "            # Analyze sentiment for the sentence\n",
    "            polarity = TextBlob(sentence).sentiment.polarity\n",
    "\n",
    "            # Score the sentence for positivity, negativity, and neutrality\n",
    "            if polarity > 0.1:\n",
    "                positive_sum += polarity\n",
    "            elif polarity < -0.1:\n",
    "                negative_sum += abs(polarity)\n",
    "            else:\n",
    "                neutral_sum += 1\n",
    "\n",
    "        # Append sums for this entry\n",
    "        positive_sums.append(positive_sum)\n",
    "        negative_sums.append(negative_sum)\n",
    "        neutral_sums.append(neutral_sum)\n",
    "\n",
    "    # Add sentiment results to the DataFrame\n",
    "    df['positive_sum'] = positive_sums\n",
    "    df['negative_sum'] = negative_sums\n",
    "    df['neutral_sum'] = neutral_sums\n",
    "\n",
    "    return df\n",
    "\n",
    "# Apply TextBlob sentiment analysis\n",
    "data = analyze_sentiment(data)"
   ]
  },
  {
   "cell_type": "code",
   "execution_count": 9,
   "id": "02983beb",
   "metadata": {},
   "outputs": [
    {
     "name": "stdout",
     "output_type": "stream",
     "text": [
      "Analysis complete. Output saved to:\n",
      "stratifiedSentimentData\\stratified_radio_sample_with_sentiment.csv\n"
     ]
    }
   ],
   "source": [
    "# Save to same directory as input\n",
    "data.to_csv(output_filename, index=False)\n",
    "print(f\"Analysis complete. Output saved to:\\n{output_filename}\")"
   ]
  }
 ],
 "metadata": {
  "kernelspec": {
   "display_name": "Capstone2",
   "language": "python",
   "name": "python3"
  },
  "language_info": {
   "codemirror_mode": {
    "name": "ipython",
    "version": 3
   },
   "file_extension": ".py",
   "mimetype": "text/x-python",
   "name": "python",
   "nbconvert_exporter": "python",
   "pygments_lexer": "ipython3",
   "version": "3.11.11"
  }
 },
 "nbformat": 4,
 "nbformat_minor": 5
}
